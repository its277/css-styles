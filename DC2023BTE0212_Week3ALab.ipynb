{
  "nbformat": 4,
  "nbformat_minor": 0,
  "metadata": {
    "colab": {
      "provenance": [],
      "authorship_tag": "ABX9TyP20jUfR04Z2n+sfBtFeVR2",
      "include_colab_link": true
    },
    "kernelspec": {
      "name": "python3",
      "display_name": "Python 3"
    },
    "language_info": {
      "name": "python"
    }
  },
  "cells": [
    {
      "cell_type": "markdown",
      "metadata": {
        "id": "view-in-github",
        "colab_type": "text"
      },
      "source": [
        "<a href=\"https://colab.research.google.com/github/its277/css-styles/blob/main/DC2023BTE0212_Week3ALab.ipynb\" target=\"_parent\"><img src=\"https://colab.research.google.com/assets/colab-badge.svg\" alt=\"Open In Colab\"/></a>"
      ]
    },
    {
      "cell_type": "markdown",
      "source": [
        "Q3."
      ],
      "metadata": {
        "id": "Dbk0h1iIYphD"
      }
    },
    {
      "cell_type": "code",
      "source": [
        "#DEFINING FUNCTION\n",
        "def calculate_sum_and_mean(numbers):\n",
        "  total_sum=sum(numbers)\n",
        "  count=len(numbers)\n",
        "  if count==0:\n",
        "    mean=0\n",
        "  else:\n",
        "    mean=total_sum/count\n",
        "  return total_sum,mean\n",
        "\n",
        "#FOR TAKING INPUT FROM USER\n",
        "def get_numbers_from_user():\n",
        "  user_input=input(\"enter number separated by spaces\")\n",
        "  str_numbers=user_input.split()\n",
        "  numbers=[float(num)for num in str_numbers]\n",
        "  return numbers\n",
        "\n",
        "#USING FUNCTION\n",
        "numbers=get_numbers_from_user()\n",
        "total_sum,mean = calculate_sum_and_mean(numbers)\n",
        "\n",
        "#PRINTING OUTPUT\n",
        "print(f\"sum={total_sum}\")\n",
        "print(f\"Mean={mean}\")"
      ],
      "metadata": {
        "colab": {
          "base_uri": "https://localhost:8080/"
        },
        "id": "9wVqqsGMYwU0",
        "outputId": "2e1a96a3-698f-40a6-ab5a-144bc6209374"
      },
      "execution_count": null,
      "outputs": [
        {
          "output_type": "stream",
          "name": "stdout",
          "text": [
            "enter number separated by spaces1 2 3\n",
            "sum=6.0\n",
            "Mean=2.0\n"
          ]
        }
      ]
    },
    {
      "cell_type": "markdown",
      "source": [
        "Q4."
      ],
      "metadata": {
        "id": "8l05GXBKY3Qr"
      }
    },
    {
      "cell_type": "code",
      "source": [
        "#IMPORTING COUNTER FUNCTION WHICH IS USED TO COUNT\n",
        "from collections import Counter\n",
        "\n",
        "def elements_with_frequency_greater_than_k(test_list, K):\n",
        "\n",
        "    frequency = Counter(test_list)#COUNTER IS USED TO COUNT ELEMENTS OF THE TEST LIST\n",
        "\n",
        "\n",
        "    result = [element for element, count in frequency.items() if count > K]\n",
        "\n",
        "    return result\n",
        "#MAIN FUNCTION\n",
        "def main():\n",
        "\n",
        "    list_input = input(\"Enter the list of integers separated by spaces: \")\n",
        "    K = int(input(\"Enter the value of K: \"))\n",
        "\n",
        "\n",
        "    test_list = list(map(int, list_input.split()))\n",
        "\n",
        "\n",
        "    output = elements_with_frequency_greater_than_k(test_list, K)\n",
        "\n",
        "\n",
        "    print(\"Elements with frequency greater than {}:\".format(K), output)\n",
        "\n",
        "#CALLING MAIN FUNCTION\n",
        "if __name__ == \"__main__\":\n",
        "    main()\n"
      ],
      "metadata": {
        "id": "2zEF01yKZwCS",
        "colab": {
          "base_uri": "https://localhost:8080/"
        },
        "outputId": "d1dcc0b1-f29d-4669-c54a-facf1aadebf6"
      },
      "execution_count": 1,
      "outputs": [
        {
          "output_type": "stream",
          "name": "stdout",
          "text": [
            "Enter the list of integers separated by spaces: 11 11 22 33 33 33\n",
            "Enter the value of K: 1\n",
            "Elements with frequency greater than 1: [11, 33]\n"
          ]
        }
      ]
    },
    {
      "cell_type": "markdown",
      "source": [
        "Q5."
      ],
      "metadata": {
        "id": "-W-NlyqWcxVj"
      }
    },
    {
      "cell_type": "code",
      "source": [
        "#INITIALIZING TUPLES\n",
        "tuple1 = (2, 1, 4, 2)\n",
        "tuple2 = (3, -1, 2, 5)\n",
        "tuple3 = (5, 2, -1, 1)\n",
        "#FOR SUM OF TUPLES VALUES\n",
        "element_wise_sum =tuple(sum(values) for values in zip(tuple1, tuple2, tuple3))\n",
        "#PRINTING OUTPUT\n",
        "print(\"Original lists:\")\n",
        "print(tuple1)\n",
        "print(tuple2)\n",
        "print(tuple3)\n",
        "print(\"Element-wise sum of the said tuples:\")\n",
        "print(element_wise_sum)"
      ],
      "metadata": {
        "colab": {
          "base_uri": "https://localhost:8080/"
        },
        "id": "mq8sH_LZdOGb",
        "outputId": "7b1a1270-1a62-4ae4-e993-90ec40804dab"
      },
      "execution_count": 2,
      "outputs": [
        {
          "output_type": "stream",
          "name": "stdout",
          "text": [
            "Original lists:\n",
            "(2, 1, 4, 2)\n",
            "(3, -1, 2, 5)\n",
            "(5, 2, -1, 1)\n",
            "Element-wise sum of the said tuples:\n",
            "(10, 2, 5, 8)\n"
          ]
        }
      ]
    },
    {
      "cell_type": "markdown",
      "source": [
        "Q6."
      ],
      "metadata": {
        "id": "pPTi5JCzkeLE"
      }
    },
    {
      "cell_type": "code",
      "source": [
        "# phonebook dictionary\n",
        "phonebook = {\n",
        "    \"John\": \"938477566\",\n",
        "    \"Jack\": \"938377264\",\n",
        "    \"Jill\": \"947662781\"\n",
        "}\n",
        "\n",
        "# Adding \"Jake\" to the phonebook\n",
        "phonebook[\"Jake\"] = \"938273443\"\n",
        "\n",
        "# Removing \"Jill\" from the phonebook\n",
        "del phonebook[\"Jill\"]\n",
        "\n",
        "# Iterating over the phonebook dictionary and printing the names and contact numbers\n",
        "for name, number in phonebook.items():\n",
        "    print(f\"Name: {name}, Contact Number: {number}\")\n"
      ],
      "metadata": {
        "colab": {
          "base_uri": "https://localhost:8080/"
        },
        "id": "-B0UUDFUkgXr",
        "outputId": "0e6ca7b4-bee2-4eed-d9e4-7c45ac170c76"
      },
      "execution_count": null,
      "outputs": [
        {
          "output_type": "stream",
          "name": "stdout",
          "text": [
            "Name: John, Contact Number: 938477566\n",
            "Name: Jack, Contact Number: 938377264\n",
            "Name: Jake, Contact Number: 938273443\n"
          ]
        }
      ]
    }
  ]
}